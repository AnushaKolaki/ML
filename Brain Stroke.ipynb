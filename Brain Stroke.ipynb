{
 "cells": [
  {
   "cell_type": "markdown",
   "id": "8d058417",
   "metadata": {},
   "source": [
    "# Import Libraries"
   ]
  },
  {
   "cell_type": "code",
   "execution_count": 67,
   "id": "92454308",
   "metadata": {},
   "outputs": [],
   "source": [
    "import numpy as np\n",
    "import pandas as pd"
   ]
  },
  {
   "cell_type": "markdown",
   "id": "c88bdd72",
   "metadata": {},
   "source": [
    "# Loading Dataset"
   ]
  },
  {
   "cell_type": "code",
   "execution_count": 68,
   "id": "70674ee4",
   "metadata": {
    "scrolled": true
   },
   "outputs": [
    {
     "data": {
      "text/html": [
       "<div>\n",
       "<style scoped>\n",
       "    .dataframe tbody tr th:only-of-type {\n",
       "        vertical-align: middle;\n",
       "    }\n",
       "\n",
       "    .dataframe tbody tr th {\n",
       "        vertical-align: top;\n",
       "    }\n",
       "\n",
       "    .dataframe thead th {\n",
       "        text-align: right;\n",
       "    }\n",
       "</style>\n",
       "<table border=\"1\" class=\"dataframe\">\n",
       "  <thead>\n",
       "    <tr style=\"text-align: right;\">\n",
       "      <th></th>\n",
       "      <th>gender</th>\n",
       "      <th>age</th>\n",
       "      <th>hypertension</th>\n",
       "      <th>heart_disease</th>\n",
       "      <th>ever_married</th>\n",
       "      <th>work_type</th>\n",
       "      <th>Residence_type</th>\n",
       "      <th>avg_glucose_level</th>\n",
       "      <th>bmi</th>\n",
       "      <th>smoking_status</th>\n",
       "      <th>stroke</th>\n",
       "    </tr>\n",
       "  </thead>\n",
       "  <tbody>\n",
       "    <tr>\n",
       "      <th>0</th>\n",
       "      <td>Male</td>\n",
       "      <td>67.0</td>\n",
       "      <td>0</td>\n",
       "      <td>1</td>\n",
       "      <td>Yes</td>\n",
       "      <td>Private</td>\n",
       "      <td>Urban</td>\n",
       "      <td>228.69</td>\n",
       "      <td>36.6</td>\n",
       "      <td>formerly smoked</td>\n",
       "      <td>1</td>\n",
       "    </tr>\n",
       "    <tr>\n",
       "      <th>1</th>\n",
       "      <td>Male</td>\n",
       "      <td>80.0</td>\n",
       "      <td>0</td>\n",
       "      <td>1</td>\n",
       "      <td>Yes</td>\n",
       "      <td>Private</td>\n",
       "      <td>Rural</td>\n",
       "      <td>105.92</td>\n",
       "      <td>32.5</td>\n",
       "      <td>never smoked</td>\n",
       "      <td>1</td>\n",
       "    </tr>\n",
       "    <tr>\n",
       "      <th>2</th>\n",
       "      <td>Female</td>\n",
       "      <td>49.0</td>\n",
       "      <td>0</td>\n",
       "      <td>0</td>\n",
       "      <td>Yes</td>\n",
       "      <td>Private</td>\n",
       "      <td>Urban</td>\n",
       "      <td>171.23</td>\n",
       "      <td>34.4</td>\n",
       "      <td>smokes</td>\n",
       "      <td>1</td>\n",
       "    </tr>\n",
       "    <tr>\n",
       "      <th>3</th>\n",
       "      <td>Female</td>\n",
       "      <td>79.0</td>\n",
       "      <td>1</td>\n",
       "      <td>0</td>\n",
       "      <td>Yes</td>\n",
       "      <td>Self-employed</td>\n",
       "      <td>Rural</td>\n",
       "      <td>174.12</td>\n",
       "      <td>24.0</td>\n",
       "      <td>never smoked</td>\n",
       "      <td>1</td>\n",
       "    </tr>\n",
       "    <tr>\n",
       "      <th>4</th>\n",
       "      <td>Male</td>\n",
       "      <td>81.0</td>\n",
       "      <td>0</td>\n",
       "      <td>0</td>\n",
       "      <td>Yes</td>\n",
       "      <td>Private</td>\n",
       "      <td>Urban</td>\n",
       "      <td>186.21</td>\n",
       "      <td>29.0</td>\n",
       "      <td>formerly smoked</td>\n",
       "      <td>1</td>\n",
       "    </tr>\n",
       "    <tr>\n",
       "      <th>...</th>\n",
       "      <td>...</td>\n",
       "      <td>...</td>\n",
       "      <td>...</td>\n",
       "      <td>...</td>\n",
       "      <td>...</td>\n",
       "      <td>...</td>\n",
       "      <td>...</td>\n",
       "      <td>...</td>\n",
       "      <td>...</td>\n",
       "      <td>...</td>\n",
       "      <td>...</td>\n",
       "    </tr>\n",
       "    <tr>\n",
       "      <th>4976</th>\n",
       "      <td>Male</td>\n",
       "      <td>41.0</td>\n",
       "      <td>0</td>\n",
       "      <td>0</td>\n",
       "      <td>No</td>\n",
       "      <td>Private</td>\n",
       "      <td>Rural</td>\n",
       "      <td>70.15</td>\n",
       "      <td>29.8</td>\n",
       "      <td>formerly smoked</td>\n",
       "      <td>0</td>\n",
       "    </tr>\n",
       "    <tr>\n",
       "      <th>4977</th>\n",
       "      <td>Male</td>\n",
       "      <td>40.0</td>\n",
       "      <td>0</td>\n",
       "      <td>0</td>\n",
       "      <td>Yes</td>\n",
       "      <td>Private</td>\n",
       "      <td>Urban</td>\n",
       "      <td>191.15</td>\n",
       "      <td>31.1</td>\n",
       "      <td>smokes</td>\n",
       "      <td>0</td>\n",
       "    </tr>\n",
       "    <tr>\n",
       "      <th>4978</th>\n",
       "      <td>Female</td>\n",
       "      <td>45.0</td>\n",
       "      <td>1</td>\n",
       "      <td>0</td>\n",
       "      <td>Yes</td>\n",
       "      <td>Govt_job</td>\n",
       "      <td>Rural</td>\n",
       "      <td>95.02</td>\n",
       "      <td>31.8</td>\n",
       "      <td>smokes</td>\n",
       "      <td>0</td>\n",
       "    </tr>\n",
       "    <tr>\n",
       "      <th>4979</th>\n",
       "      <td>Male</td>\n",
       "      <td>40.0</td>\n",
       "      <td>0</td>\n",
       "      <td>0</td>\n",
       "      <td>Yes</td>\n",
       "      <td>Private</td>\n",
       "      <td>Rural</td>\n",
       "      <td>83.94</td>\n",
       "      <td>30.0</td>\n",
       "      <td>smokes</td>\n",
       "      <td>0</td>\n",
       "    </tr>\n",
       "    <tr>\n",
       "      <th>4980</th>\n",
       "      <td>Female</td>\n",
       "      <td>80.0</td>\n",
       "      <td>1</td>\n",
       "      <td>0</td>\n",
       "      <td>Yes</td>\n",
       "      <td>Private</td>\n",
       "      <td>Urban</td>\n",
       "      <td>83.75</td>\n",
       "      <td>29.1</td>\n",
       "      <td>never smoked</td>\n",
       "      <td>0</td>\n",
       "    </tr>\n",
       "  </tbody>\n",
       "</table>\n",
       "<p>4981 rows × 11 columns</p>\n",
       "</div>"
      ],
      "text/plain": [
       "      gender   age  hypertension  heart_disease ever_married      work_type  \\\n",
       "0       Male  67.0             0              1          Yes        Private   \n",
       "1       Male  80.0             0              1          Yes        Private   \n",
       "2     Female  49.0             0              0          Yes        Private   \n",
       "3     Female  79.0             1              0          Yes  Self-employed   \n",
       "4       Male  81.0             0              0          Yes        Private   \n",
       "...      ...   ...           ...            ...          ...            ...   \n",
       "4976    Male  41.0             0              0           No        Private   \n",
       "4977    Male  40.0             0              0          Yes        Private   \n",
       "4978  Female  45.0             1              0          Yes       Govt_job   \n",
       "4979    Male  40.0             0              0          Yes        Private   \n",
       "4980  Female  80.0             1              0          Yes        Private   \n",
       "\n",
       "     Residence_type  avg_glucose_level   bmi   smoking_status  stroke  \n",
       "0             Urban             228.69  36.6  formerly smoked       1  \n",
       "1             Rural             105.92  32.5     never smoked       1  \n",
       "2             Urban             171.23  34.4           smokes       1  \n",
       "3             Rural             174.12  24.0     never smoked       1  \n",
       "4             Urban             186.21  29.0  formerly smoked       1  \n",
       "...             ...                ...   ...              ...     ...  \n",
       "4976          Rural              70.15  29.8  formerly smoked       0  \n",
       "4977          Urban             191.15  31.1           smokes       0  \n",
       "4978          Rural              95.02  31.8           smokes       0  \n",
       "4979          Rural              83.94  30.0           smokes       0  \n",
       "4980          Urban              83.75  29.1     never smoked       0  \n",
       "\n",
       "[4981 rows x 11 columns]"
      ]
     },
     "execution_count": 68,
     "metadata": {},
     "output_type": "execute_result"
    }
   ],
   "source": [
    "dataset=pd.read_csv(r\"D:\\Datasets\\brain_stroke.csv\")\n",
    "dataset"
   ]
  },
  {
   "cell_type": "markdown",
   "id": "b725ab16",
   "metadata": {},
   "source": [
    "# One hot encoding"
   ]
  },
  {
   "cell_type": "code",
   "execution_count": 69,
   "id": "4ca09644",
   "metadata": {},
   "outputs": [
    {
     "data": {
      "text/html": [
       "<div>\n",
       "<style scoped>\n",
       "    .dataframe tbody tr th:only-of-type {\n",
       "        vertical-align: middle;\n",
       "    }\n",
       "\n",
       "    .dataframe tbody tr th {\n",
       "        vertical-align: top;\n",
       "    }\n",
       "\n",
       "    .dataframe thead th {\n",
       "        text-align: right;\n",
       "    }\n",
       "</style>\n",
       "<table border=\"1\" class=\"dataframe\">\n",
       "  <thead>\n",
       "    <tr style=\"text-align: right;\">\n",
       "      <th></th>\n",
       "      <th>age</th>\n",
       "      <th>hypertension</th>\n",
       "      <th>heart_disease</th>\n",
       "      <th>avg_glucose_level</th>\n",
       "      <th>bmi</th>\n",
       "      <th>stroke</th>\n",
       "      <th>gender_Female</th>\n",
       "      <th>gender_Male</th>\n",
       "      <th>ever_married_No</th>\n",
       "      <th>ever_married_Yes</th>\n",
       "      <th>work_type_Govt_job</th>\n",
       "      <th>work_type_Private</th>\n",
       "      <th>work_type_Self-employed</th>\n",
       "      <th>work_type_children</th>\n",
       "      <th>Residence_type_Rural</th>\n",
       "      <th>Residence_type_Urban</th>\n",
       "      <th>smoking_status_Unknown</th>\n",
       "      <th>smoking_status_formerly smoked</th>\n",
       "      <th>smoking_status_never smoked</th>\n",
       "      <th>smoking_status_smokes</th>\n",
       "    </tr>\n",
       "  </thead>\n",
       "  <tbody>\n",
       "    <tr>\n",
       "      <th>0</th>\n",
       "      <td>67.0</td>\n",
       "      <td>0</td>\n",
       "      <td>1</td>\n",
       "      <td>228.69</td>\n",
       "      <td>36.6</td>\n",
       "      <td>1</td>\n",
       "      <td>0</td>\n",
       "      <td>1</td>\n",
       "      <td>0</td>\n",
       "      <td>1</td>\n",
       "      <td>0</td>\n",
       "      <td>1</td>\n",
       "      <td>0</td>\n",
       "      <td>0</td>\n",
       "      <td>0</td>\n",
       "      <td>1</td>\n",
       "      <td>0</td>\n",
       "      <td>1</td>\n",
       "      <td>0</td>\n",
       "      <td>0</td>\n",
       "    </tr>\n",
       "    <tr>\n",
       "      <th>1</th>\n",
       "      <td>80.0</td>\n",
       "      <td>0</td>\n",
       "      <td>1</td>\n",
       "      <td>105.92</td>\n",
       "      <td>32.5</td>\n",
       "      <td>1</td>\n",
       "      <td>0</td>\n",
       "      <td>1</td>\n",
       "      <td>0</td>\n",
       "      <td>1</td>\n",
       "      <td>0</td>\n",
       "      <td>1</td>\n",
       "      <td>0</td>\n",
       "      <td>0</td>\n",
       "      <td>1</td>\n",
       "      <td>0</td>\n",
       "      <td>0</td>\n",
       "      <td>0</td>\n",
       "      <td>1</td>\n",
       "      <td>0</td>\n",
       "    </tr>\n",
       "    <tr>\n",
       "      <th>2</th>\n",
       "      <td>49.0</td>\n",
       "      <td>0</td>\n",
       "      <td>0</td>\n",
       "      <td>171.23</td>\n",
       "      <td>34.4</td>\n",
       "      <td>1</td>\n",
       "      <td>1</td>\n",
       "      <td>0</td>\n",
       "      <td>0</td>\n",
       "      <td>1</td>\n",
       "      <td>0</td>\n",
       "      <td>1</td>\n",
       "      <td>0</td>\n",
       "      <td>0</td>\n",
       "      <td>0</td>\n",
       "      <td>1</td>\n",
       "      <td>0</td>\n",
       "      <td>0</td>\n",
       "      <td>0</td>\n",
       "      <td>1</td>\n",
       "    </tr>\n",
       "    <tr>\n",
       "      <th>3</th>\n",
       "      <td>79.0</td>\n",
       "      <td>1</td>\n",
       "      <td>0</td>\n",
       "      <td>174.12</td>\n",
       "      <td>24.0</td>\n",
       "      <td>1</td>\n",
       "      <td>1</td>\n",
       "      <td>0</td>\n",
       "      <td>0</td>\n",
       "      <td>1</td>\n",
       "      <td>0</td>\n",
       "      <td>0</td>\n",
       "      <td>1</td>\n",
       "      <td>0</td>\n",
       "      <td>1</td>\n",
       "      <td>0</td>\n",
       "      <td>0</td>\n",
       "      <td>0</td>\n",
       "      <td>1</td>\n",
       "      <td>0</td>\n",
       "    </tr>\n",
       "    <tr>\n",
       "      <th>4</th>\n",
       "      <td>81.0</td>\n",
       "      <td>0</td>\n",
       "      <td>0</td>\n",
       "      <td>186.21</td>\n",
       "      <td>29.0</td>\n",
       "      <td>1</td>\n",
       "      <td>0</td>\n",
       "      <td>1</td>\n",
       "      <td>0</td>\n",
       "      <td>1</td>\n",
       "      <td>0</td>\n",
       "      <td>1</td>\n",
       "      <td>0</td>\n",
       "      <td>0</td>\n",
       "      <td>0</td>\n",
       "      <td>1</td>\n",
       "      <td>0</td>\n",
       "      <td>1</td>\n",
       "      <td>0</td>\n",
       "      <td>0</td>\n",
       "    </tr>\n",
       "    <tr>\n",
       "      <th>...</th>\n",
       "      <td>...</td>\n",
       "      <td>...</td>\n",
       "      <td>...</td>\n",
       "      <td>...</td>\n",
       "      <td>...</td>\n",
       "      <td>...</td>\n",
       "      <td>...</td>\n",
       "      <td>...</td>\n",
       "      <td>...</td>\n",
       "      <td>...</td>\n",
       "      <td>...</td>\n",
       "      <td>...</td>\n",
       "      <td>...</td>\n",
       "      <td>...</td>\n",
       "      <td>...</td>\n",
       "      <td>...</td>\n",
       "      <td>...</td>\n",
       "      <td>...</td>\n",
       "      <td>...</td>\n",
       "      <td>...</td>\n",
       "    </tr>\n",
       "    <tr>\n",
       "      <th>4976</th>\n",
       "      <td>41.0</td>\n",
       "      <td>0</td>\n",
       "      <td>0</td>\n",
       "      <td>70.15</td>\n",
       "      <td>29.8</td>\n",
       "      <td>0</td>\n",
       "      <td>0</td>\n",
       "      <td>1</td>\n",
       "      <td>1</td>\n",
       "      <td>0</td>\n",
       "      <td>0</td>\n",
       "      <td>1</td>\n",
       "      <td>0</td>\n",
       "      <td>0</td>\n",
       "      <td>1</td>\n",
       "      <td>0</td>\n",
       "      <td>0</td>\n",
       "      <td>1</td>\n",
       "      <td>0</td>\n",
       "      <td>0</td>\n",
       "    </tr>\n",
       "    <tr>\n",
       "      <th>4977</th>\n",
       "      <td>40.0</td>\n",
       "      <td>0</td>\n",
       "      <td>0</td>\n",
       "      <td>191.15</td>\n",
       "      <td>31.1</td>\n",
       "      <td>0</td>\n",
       "      <td>0</td>\n",
       "      <td>1</td>\n",
       "      <td>0</td>\n",
       "      <td>1</td>\n",
       "      <td>0</td>\n",
       "      <td>1</td>\n",
       "      <td>0</td>\n",
       "      <td>0</td>\n",
       "      <td>0</td>\n",
       "      <td>1</td>\n",
       "      <td>0</td>\n",
       "      <td>0</td>\n",
       "      <td>0</td>\n",
       "      <td>1</td>\n",
       "    </tr>\n",
       "    <tr>\n",
       "      <th>4978</th>\n",
       "      <td>45.0</td>\n",
       "      <td>1</td>\n",
       "      <td>0</td>\n",
       "      <td>95.02</td>\n",
       "      <td>31.8</td>\n",
       "      <td>0</td>\n",
       "      <td>1</td>\n",
       "      <td>0</td>\n",
       "      <td>0</td>\n",
       "      <td>1</td>\n",
       "      <td>1</td>\n",
       "      <td>0</td>\n",
       "      <td>0</td>\n",
       "      <td>0</td>\n",
       "      <td>1</td>\n",
       "      <td>0</td>\n",
       "      <td>0</td>\n",
       "      <td>0</td>\n",
       "      <td>0</td>\n",
       "      <td>1</td>\n",
       "    </tr>\n",
       "    <tr>\n",
       "      <th>4979</th>\n",
       "      <td>40.0</td>\n",
       "      <td>0</td>\n",
       "      <td>0</td>\n",
       "      <td>83.94</td>\n",
       "      <td>30.0</td>\n",
       "      <td>0</td>\n",
       "      <td>0</td>\n",
       "      <td>1</td>\n",
       "      <td>0</td>\n",
       "      <td>1</td>\n",
       "      <td>0</td>\n",
       "      <td>1</td>\n",
       "      <td>0</td>\n",
       "      <td>0</td>\n",
       "      <td>1</td>\n",
       "      <td>0</td>\n",
       "      <td>0</td>\n",
       "      <td>0</td>\n",
       "      <td>0</td>\n",
       "      <td>1</td>\n",
       "    </tr>\n",
       "    <tr>\n",
       "      <th>4980</th>\n",
       "      <td>80.0</td>\n",
       "      <td>1</td>\n",
       "      <td>0</td>\n",
       "      <td>83.75</td>\n",
       "      <td>29.1</td>\n",
       "      <td>0</td>\n",
       "      <td>1</td>\n",
       "      <td>0</td>\n",
       "      <td>0</td>\n",
       "      <td>1</td>\n",
       "      <td>0</td>\n",
       "      <td>1</td>\n",
       "      <td>0</td>\n",
       "      <td>0</td>\n",
       "      <td>0</td>\n",
       "      <td>1</td>\n",
       "      <td>0</td>\n",
       "      <td>0</td>\n",
       "      <td>1</td>\n",
       "      <td>0</td>\n",
       "    </tr>\n",
       "  </tbody>\n",
       "</table>\n",
       "<p>4981 rows × 20 columns</p>\n",
       "</div>"
      ],
      "text/plain": [
       "       age  hypertension  heart_disease  avg_glucose_level   bmi  stroke  \\\n",
       "0     67.0             0              1             228.69  36.6       1   \n",
       "1     80.0             0              1             105.92  32.5       1   \n",
       "2     49.0             0              0             171.23  34.4       1   \n",
       "3     79.0             1              0             174.12  24.0       1   \n",
       "4     81.0             0              0             186.21  29.0       1   \n",
       "...    ...           ...            ...                ...   ...     ...   \n",
       "4976  41.0             0              0              70.15  29.8       0   \n",
       "4977  40.0             0              0             191.15  31.1       0   \n",
       "4978  45.0             1              0              95.02  31.8       0   \n",
       "4979  40.0             0              0              83.94  30.0       0   \n",
       "4980  80.0             1              0              83.75  29.1       0   \n",
       "\n",
       "      gender_Female  gender_Male  ever_married_No  ever_married_Yes  \\\n",
       "0                 0            1                0                 1   \n",
       "1                 0            1                0                 1   \n",
       "2                 1            0                0                 1   \n",
       "3                 1            0                0                 1   \n",
       "4                 0            1                0                 1   \n",
       "...             ...          ...              ...               ...   \n",
       "4976              0            1                1                 0   \n",
       "4977              0            1                0                 1   \n",
       "4978              1            0                0                 1   \n",
       "4979              0            1                0                 1   \n",
       "4980              1            0                0                 1   \n",
       "\n",
       "      work_type_Govt_job  work_type_Private  work_type_Self-employed  \\\n",
       "0                      0                  1                        0   \n",
       "1                      0                  1                        0   \n",
       "2                      0                  1                        0   \n",
       "3                      0                  0                        1   \n",
       "4                      0                  1                        0   \n",
       "...                  ...                ...                      ...   \n",
       "4976                   0                  1                        0   \n",
       "4977                   0                  1                        0   \n",
       "4978                   1                  0                        0   \n",
       "4979                   0                  1                        0   \n",
       "4980                   0                  1                        0   \n",
       "\n",
       "      work_type_children  Residence_type_Rural  Residence_type_Urban  \\\n",
       "0                      0                     0                     1   \n",
       "1                      0                     1                     0   \n",
       "2                      0                     0                     1   \n",
       "3                      0                     1                     0   \n",
       "4                      0                     0                     1   \n",
       "...                  ...                   ...                   ...   \n",
       "4976                   0                     1                     0   \n",
       "4977                   0                     0                     1   \n",
       "4978                   0                     1                     0   \n",
       "4979                   0                     1                     0   \n",
       "4980                   0                     0                     1   \n",
       "\n",
       "      smoking_status_Unknown  smoking_status_formerly smoked  \\\n",
       "0                          0                               1   \n",
       "1                          0                               0   \n",
       "2                          0                               0   \n",
       "3                          0                               0   \n",
       "4                          0                               1   \n",
       "...                      ...                             ...   \n",
       "4976                       0                               1   \n",
       "4977                       0                               0   \n",
       "4978                       0                               0   \n",
       "4979                       0                               0   \n",
       "4980                       0                               0   \n",
       "\n",
       "      smoking_status_never smoked  smoking_status_smokes  \n",
       "0                               0                      0  \n",
       "1                               1                      0  \n",
       "2                               0                      1  \n",
       "3                               1                      0  \n",
       "4                               0                      0  \n",
       "...                           ...                    ...  \n",
       "4976                            0                      0  \n",
       "4977                            0                      1  \n",
       "4978                            0                      1  \n",
       "4979                            0                      1  \n",
       "4980                            1                      0  \n",
       "\n",
       "[4981 rows x 20 columns]"
      ]
     },
     "execution_count": 69,
     "metadata": {},
     "output_type": "execute_result"
    }
   ],
   "source": [
    "a=pd.get_dummies(dataset,columns=['gender','ever_married','work_type','Residence_type','smoking_status'])\n",
    "a"
   ]
  },
  {
   "cell_type": "code",
   "execution_count": 70,
   "id": "c670630a",
   "metadata": {},
   "outputs": [
    {
     "data": {
      "text/plain": [
       "array([1, 0], dtype=int64)"
      ]
     },
     "execution_count": 70,
     "metadata": {},
     "output_type": "execute_result"
    }
   ],
   "source": [
    "dataset[\"heart_disease\"].unique()"
   ]
  },
  {
   "cell_type": "markdown",
   "id": "ff3f6fc2",
   "metadata": {},
   "source": [
    "# Mapping"
   ]
  },
  {
   "cell_type": "code",
   "execution_count": 71,
   "id": "51f7e878",
   "metadata": {},
   "outputs": [
    {
     "data": {
      "text/plain": [
       "<AxesSubplot:>"
      ]
     },
     "execution_count": 71,
     "metadata": {},
     "output_type": "execute_result"
    },
    {
     "data": {
      "image/png": "[encoded data removed]",
      "text/plain": [
       "<Figure size 640x480 with 2 Axes>"
      ]
     },
     "metadata": {},
     "output_type": "display_data"
    }
   ],
   "source": [
    "import seaborn as sns\n",
    "sns.heatmap(a.corr())"
   ]
  },
  {
   "cell_type": "code",
   "execution_count": 72,
   "id": "ace4fa8c",
   "metadata": {},
   "outputs": [
    {
     "data": {
      "text/plain": [
       "<AxesSubplot:xlabel='age', ylabel='Count'>"
      ]
     },
     "execution_count": 72,
     "metadata": {},
     "output_type": "execute_result"
    },
    {
     "data": {
      "image/png": "[encoded data removed]",
      "text/plain": [
       "<Figure size 640x480 with 1 Axes>"
      ]
     },
     "metadata": {},
     "output_type": "display_data"
    }
   ],
   "source": [
    "sns.histplot(data=a,x=\"age\")"
   ]
  },
  {
   "cell_type": "code",
   "execution_count": 73,
   "id": "51afa1e4",
   "metadata": {},
   "outputs": [
    {
     "data": {
      "text/plain": [
       "<AxesSubplot:xlabel='bmi', ylabel='Count'>"
      ]
     },
     "execution_count": 73,
     "metadata": {},
     "output_type": "execute_result"
    },
    {
     "data": {
      "image/png": "[encoded data removed]",
      "text/plain": [
       "<Figure size 640x480 with 1 Axes>"
      ]
     },
     "metadata": {},
     "output_type": "display_data"
    }
   ],
   "source": [
    "sns.histplot(data=a,x=\"bmi\")"
   ]
  },
  {
   "cell_type": "markdown",
   "id": "20a39bac",
   "metadata": {},
   "source": [
    "# Slicing Dataset"
   ]
  },
  {
   "cell_type": "code",
   "execution_count": 74,
   "id": "238f0714",
   "metadata": {},
   "outputs": [
    {
     "data": {
      "text/plain": [
       "array([[67.,  0.,  1., ...,  0.,  1.,  0.],\n",
       "       [80.,  0.,  1., ...,  0.,  0.,  1.],\n",
       "       [49.,  0.,  0., ...,  0.,  0.,  0.],\n",
       "       ...,\n",
       "       [ 3.,  0.,  0., ...,  1.,  0.,  0.],\n",
       "       [49.,  0.,  0., ...,  0.,  0.,  0.],\n",
       "       [12.,  0.,  0., ...,  0.,  0.,  1.]])"
      ]
     },
     "execution_count": 74,
     "metadata": {},
     "output_type": "execute_result"
    }
   ],
   "source": [
    "x=a.iloc[0:2000,[0,1,2,3,4,6,7,8,9,10,11,12,13,14,15,16,17,18]].values\n",
    "x"
   ]
  },
  {
   "cell_type": "code",
   "execution_count": 75,
   "id": "004f4b7f",
   "metadata": {},
   "outputs": [
    {
     "data": {
      "text/plain": [
       "array([1, 1, 1, ..., 0, 0, 0], dtype=int64)"
      ]
     },
     "execution_count": 75,
     "metadata": {},
     "output_type": "execute_result"
    }
   ],
   "source": [
    "y=a.iloc[0:2000,5].values\n",
    "y"
   ]
  },
  {
   "cell_type": "markdown",
   "id": "50762824",
   "metadata": {},
   "source": [
    "# Data Imbalancing\n",
    "SMOTE"
   ]
  },
  {
   "cell_type": "code",
   "execution_count": 76,
   "id": "8c6b7fe7",
   "metadata": {},
   "outputs": [],
   "source": [
    "from imblearn.over_sampling import SMOTE\n",
    "sm=SMOTE()\n",
    "x_data,y_data=sm.fit_resample(x,y)"
   ]
  },
  {
   "cell_type": "markdown",
   "id": "608968d8",
   "metadata": {},
   "source": [
    "# Feature Scaling "
   ]
  },
  {
   "cell_type": "code",
   "execution_count": 77,
   "id": "118871a5",
   "metadata": {},
   "outputs": [],
   "source": [
    "from sklearn.preprocessing import StandardScaler\n",
    "ss=StandardScaler()\n",
    "x_scaled=ss.fit_transform(x_data,y_data)"
   ]
  },
  {
   "cell_type": "code",
   "execution_count": 78,
   "id": "0979b895",
   "metadata": {},
   "outputs": [
    {
     "name": "stdout",
     "output_type": "stream",
     "text": [
      "Counter({1: 1792, 0: 1792})\n"
     ]
    }
   ],
   "source": [
    "from collections import Counter\n",
    "print(Counter(y_data))"
   ]
  },
  {
   "cell_type": "markdown",
   "id": "8906636a",
   "metadata": {},
   "source": [
    "# Split for Train & Test"
   ]
  },
  {
   "cell_type": "code",
   "execution_count": 79,
   "id": "61c87d9e",
   "metadata": {},
   "outputs": [],
   "source": [
    "from sklearn.model_selection import train_test_split\n",
    "x_train,x_test,y_train,y_test=train_test_split(x_scaled,y_data,random_state=11,test_size=0.2)"
   ]
  },
  {
   "cell_type": "markdown",
   "id": "0bd48ac8",
   "metadata": {},
   "source": [
    "# Ensemble Technique\n"
   ]
  },
  {
   "cell_type": "markdown",
   "id": "db475fb5",
   "metadata": {},
   "source": [
    "# Logistic Regression"
   ]
  },
  {
   "cell_type": "code",
   "execution_count": 80,
   "id": "a99ac414",
   "metadata": {},
   "outputs": [
    {
     "data": {
      "text/plain": [
       "78.24267782426779"
      ]
     },
     "execution_count": 80,
     "metadata": {},
     "output_type": "execute_result"
    }
   ],
   "source": [
    "from sklearn.linear_model import LogisticRegression\n",
    "l1=LogisticRegression()\n",
    "l1.fit(x_train,y_train)\n",
    "\n",
    "y_pred=l1.predict(x_test)\n",
    "y_pred\n",
    "\n",
    "from sklearn.metrics import accuracy_score\n",
    "ac=accuracy_score(y_test,y_pred)*100\n",
    "ac"
   ]
  },
  {
   "cell_type": "markdown",
   "id": "6b869509",
   "metadata": {},
   "source": [
    "# Naive Bayes"
   ]
  },
  {
   "cell_type": "code",
   "execution_count": 81,
   "id": "af762c9d",
   "metadata": {},
   "outputs": [
    {
     "data": {
      "text/plain": [
       "73.64016736401673"
      ]
     },
     "execution_count": 81,
     "metadata": {},
     "output_type": "execute_result"
    }
   ],
   "source": [
    "from sklearn.naive_bayes import GaussianNB\n",
    "gb=GaussianNB()\n",
    "gb.fit(x_train,y_train)\n",
    "\n",
    "y_pred1=gb.predict(x_test)\n",
    "y_pred1\n",
    "\n",
    "from sklearn.metrics import accuracy_score\n",
    "ac1=accuracy_score(y_pred1,y_test)*100\n",
    "ac1"
   ]
  },
  {
   "cell_type": "markdown",
   "id": "27aae19b",
   "metadata": {},
   "source": [
    "# Ensemble "
   ]
  },
  {
   "cell_type": "code",
   "execution_count": 82,
   "id": "b1e59b7d",
   "metadata": {},
   "outputs": [
    {
     "data": {
      "text/plain": [
       "VotingClassifier(estimators=[('LogisticRegression', LogisticRegression()),\n",
       "                             ('NaiveBayes', GaussianNB())])"
      ]
     },
     "execution_count": 82,
     "metadata": {},
     "output_type": "execute_result"
    }
   ],
   "source": [
    "from sklearn.ensemble import VotingClassifier\n",
    "vc=VotingClassifier(estimators=[('LogisticRegression',l1),('NaiveBayes',gb)])\n",
    "vc.fit(x_train,y_train)"
   ]
  },
  {
   "cell_type": "markdown",
   "id": "e440a7c1",
   "metadata": {},
   "source": [
    "# Predict Target Variable"
   ]
  },
  {
   "cell_type": "code",
   "execution_count": 83,
   "id": "33ed820a",
   "metadata": {},
   "outputs": [
    {
     "data": {
      "text/plain": [
       "array([1, 0, 1, 1, 1, 0, 0, 1, 0, 0, 1, 0, 0, 0, 0, 0, 1, 1, 0, 1, 0, 0,\n",
       "       1, 0, 0, 1, 0, 0, 0, 0, 0, 0, 1, 0, 1, 1, 0, 0, 1, 1, 1, 1, 0, 1,\n",
       "       0, 1, 0, 1, 0, 0, 0, 1, 0, 0, 1, 1, 1, 1, 0, 0, 1, 1, 0, 0, 0, 0,\n",
       "       1, 0, 1, 1, 1, 1, 0, 1, 0, 0, 0, 0, 0, 0, 1, 1, 1, 1, 1, 1, 0, 1,\n",
       "       0, 0, 0, 1, 0, 1, 1, 1, 0, 0, 0, 0, 1, 1, 1, 0, 1, 0, 0, 1, 0, 0,\n",
       "       0, 0, 0, 0, 0, 1, 1, 1, 0, 0, 1, 1, 0, 1, 1, 1, 1, 0, 0, 1, 1, 0,\n",
       "       0, 0, 1, 1, 0, 0, 0, 1, 1, 0, 1, 1, 0, 0, 0, 0, 1, 1, 1, 0, 1, 1,\n",
       "       1, 1, 0, 0, 0, 1, 1, 1, 1, 0, 0, 1, 1, 1, 1, 1, 1, 1, 0, 0, 1, 1,\n",
       "       1, 0, 1, 0, 1, 0, 1, 0, 1, 1, 0, 0, 1, 1, 1, 1, 0, 1, 1, 1, 1, 0,\n",
       "       0, 1, 1, 1, 1, 0, 0, 1, 1, 1, 0, 1, 1, 1, 0, 0, 0, 1, 1, 1, 1, 1,\n",
       "       1, 0, 0, 1, 1, 1, 1, 1, 1, 1, 0, 0, 0, 1, 0, 0, 1, 1, 0, 1, 0, 1,\n",
       "       1, 0, 1, 0, 1, 0, 0, 1, 0, 1, 1, 0, 1, 1, 0, 1, 1, 1, 1, 0, 1, 0,\n",
       "       0, 1, 1, 1, 1, 0, 1, 1, 1, 0, 0, 0, 1, 1, 1, 1, 0, 0, 0, 1, 0, 0,\n",
       "       1, 0, 1, 0, 0, 1, 1, 1, 0, 0, 0, 1, 1, 0, 0, 1, 1, 1, 1, 0, 1, 1,\n",
       "       1, 0, 0, 0, 1, 0, 0, 1, 0, 1, 0, 1, 0, 0, 0, 1, 1, 0, 1, 1, 1, 0,\n",
       "       1, 0, 0, 0, 1, 0, 0, 1, 1, 1, 0, 1, 0, 0, 1, 0, 1, 0, 0, 0, 0, 0,\n",
       "       1, 1, 1, 0, 0, 0, 0, 1, 1, 1, 0, 0, 1, 1, 1, 0, 1, 0, 1, 1, 0, 0,\n",
       "       1, 1, 1, 1, 0, 0, 1, 1, 1, 0, 0, 0, 0, 0, 1, 0, 0, 1, 0, 1, 1, 0,\n",
       "       1, 0, 0, 1, 1, 0, 0, 0, 0, 0, 0, 0, 0, 1, 1, 1, 0, 1, 1, 0, 1, 0,\n",
       "       0, 1, 0, 0, 1, 0, 0, 0, 1, 0, 1, 0, 1, 0, 0, 1, 1, 0, 0, 1, 0, 1,\n",
       "       1, 1, 0, 1, 1, 0, 1, 0, 0, 1, 0, 0, 0, 1, 0, 1, 0, 0, 0, 1, 0, 0,\n",
       "       1, 0, 0, 0, 0, 1, 1, 0, 0, 0, 1, 1, 1, 0, 0, 1, 1, 0, 1, 0, 0, 1,\n",
       "       0, 0, 1, 0, 1, 1, 0, 1, 0, 1, 1, 0, 1, 0, 1, 1, 0, 1, 1, 1, 1, 1,\n",
       "       0, 1, 0, 1, 0, 1, 0, 0, 1, 1, 0, 0, 1, 1, 0, 1, 1, 0, 1, 0, 0, 0,\n",
       "       0, 0, 1, 1, 0, 0, 1, 1, 0, 0, 1, 1, 0, 0, 1, 0, 0, 1, 0, 0, 1, 0,\n",
       "       1, 0, 1, 0, 1, 0, 1, 1, 0, 1, 1, 1, 0, 0, 0, 0, 1, 0, 0, 0, 0, 0,\n",
       "       0, 0, 0, 1, 1, 0, 0, 0, 1, 1, 0, 1, 1, 0, 0, 0, 1, 1, 0, 1, 0, 1,\n",
       "       0, 0, 1, 0, 0, 1, 1, 0, 1, 1, 1, 1, 0, 1, 0, 1, 0, 1, 1, 1, 0, 0,\n",
       "       0, 1, 1, 0, 0, 1, 1, 1, 1, 1, 1, 0, 0, 1, 0, 1, 0, 1, 1, 0, 1, 0,\n",
       "       0, 1, 1, 1, 0, 1, 1, 1, 1, 0, 0, 1, 0, 0, 1, 0, 1, 0, 0, 0, 1, 0,\n",
       "       0, 1, 0, 1, 0, 1, 1, 1, 0, 1, 1, 0, 1, 0, 0, 0, 1, 0, 1, 0, 1, 1,\n",
       "       1, 0, 0, 1, 1, 0, 0, 1, 0, 0, 0, 0, 1, 1, 0, 1, 1, 1, 1, 0, 0, 1,\n",
       "       1, 1, 1, 1, 0, 1, 1, 0, 1, 1, 1, 0, 0], dtype=int64)"
      ]
     },
     "execution_count": 83,
     "metadata": {},
     "output_type": "execute_result"
    }
   ],
   "source": [
    "max_vote_y_pred=vc.predict(x_test)\n",
    "max_vote_y_pred"
   ]
  },
  {
   "cell_type": "markdown",
   "id": "bdf7d053",
   "metadata": {},
   "source": [
    "# Accuracy Score"
   ]
  },
  {
   "cell_type": "code",
   "execution_count": 84,
   "id": "4560dfce",
   "metadata": {},
   "outputs": [
    {
     "data": {
      "text/plain": [
       "77.68479776847977"
      ]
     },
     "execution_count": 84,
     "metadata": {},
     "output_type": "execute_result"
    }
   ],
   "source": [
    "from sklearn.metrics import accuracy_score\n",
    "ac2=accuracy_score(max_vote_y_pred,y_test)*100\n",
    "ac2"
   ]
  },
  {
   "cell_type": "markdown",
   "id": "9c586171",
   "metadata": {},
   "source": [
    "# Averaging"
   ]
  },
  {
   "cell_type": "code",
   "execution_count": 86,
   "id": "bf030c37",
   "metadata": {},
   "outputs": [
    {
     "data": {
      "text/plain": [
       "array([1.5, 1. , 1.5, 1.5, 1.5, 0.5, 0.5, 1.5, 0.5, 0. , 1.5, 0. , 0.5,\n",
       "       0.5, 0.5, 0.5, 1.5, 1.5, 0. , 1.5, 0.5, 1. , 1.5, 0. , 0.5, 1.5,\n",
       "       0. , 0. , 0.5, 1. , 0. , 0.5, 1.5, 0. , 1.5, 1.5, 0. , 0.5, 1.5,\n",
       "       1.5, 1.5, 1.5, 0. , 1.5, 0. , 1.5, 0. , 1.5, 0.5, 0. , 0. , 1.5,\n",
       "       0. , 0. , 1.5, 1.5, 1.5, 1.5, 0. , 0.5, 1.5, 1.5, 0. , 0. , 0.5,\n",
       "       0. , 1.5, 0.5, 1.5, 1.5, 1.5, 1.5, 0. , 1.5, 0. , 0. , 0.5, 0. ,\n",
       "       0.5, 0.5, 1.5, 1.5, 1.5, 1.5, 1.5, 1.5, 0. , 1.5, 0. , 0. , 0.5,\n",
       "       1.5, 0.5, 1.5, 1.5, 1.5, 0. , 0.5, 0. , 0. , 1.5, 1.5, 1.5, 0. ,\n",
       "       1.5, 0. , 0.5, 1.5, 0.5, 0. , 0. , 0.5, 0. , 0. , 1. , 1.5, 1.5,\n",
       "       1.5, 0. , 0.5, 1.5, 1.5, 0. , 1.5, 1.5, 1.5, 1.5, 0. , 0. , 1.5,\n",
       "       1.5, 1. , 0. , 0. , 1.5, 1.5, 0. , 0. , 0.5, 1.5, 1.5, 0. , 1.5,\n",
       "       1.5, 0. , 0. , 0.5, 0. , 1.5, 1.5, 1.5, 0. , 1.5, 1.5, 1.5, 1.5,\n",
       "       0.5, 0. , 0. , 1.5, 1.5, 1.5, 1.5, 0. , 0. , 1.5, 1.5, 1.5, 1.5,\n",
       "       1.5, 1.5, 1.5, 0.5, 1. , 1.5, 1.5, 1.5, 0. , 1.5, 0. , 1.5, 0. ,\n",
       "       1.5, 0. , 1.5, 1.5, 1. , 0. , 1.5, 1.5, 1.5, 1.5, 0.5, 1.5, 1.5,\n",
       "       1.5, 1.5, 0. , 0.5, 1.5, 1.5, 1.5, 1.5, 0. , 1. , 1.5, 1.5, 1.5,\n",
       "       0. , 1.5, 1.5, 1.5, 0. , 0. , 0.5, 1.5, 1.5, 1.5, 1.5, 1.5, 1.5,\n",
       "       0. , 0. , 1.5, 1.5, 1.5, 1.5, 1.5, 1.5, 1.5, 0.5, 0.5, 0. , 1.5,\n",
       "       1. , 1. , 1.5, 1.5, 0.5, 1.5, 0.5, 1.5, 1.5, 0.5, 1.5, 0. , 1.5,\n",
       "       0. , 0. , 1.5, 0. , 1.5, 1.5, 0. , 1.5, 1.5, 0.5, 1.5, 1.5, 1.5,\n",
       "       1.5, 0.5, 1.5, 0. , 0.5, 1.5, 1.5, 1.5, 1.5, 0. , 1.5, 1.5, 1.5,\n",
       "       0. , 0. , 0.5, 1.5, 1.5, 1.5, 1.5, 0. , 0.5, 0. , 1.5, 0. , 0.5,\n",
       "       1.5, 0.5, 1.5, 0. , 0. , 1.5, 1.5, 1.5, 0.5, 0. , 0. , 1.5, 1.5,\n",
       "       0. , 0. , 1.5, 1.5, 1.5, 1.5, 0.5, 1.5, 1.5, 1.5, 0. , 0.5, 0.5,\n",
       "       1.5, 0. , 0.5, 1.5, 0.5, 1.5, 0. , 1.5, 0.5, 0. , 0. , 1.5, 1.5,\n",
       "       0.5, 1.5, 1.5, 1.5, 0. , 1.5, 0. , 0. , 0. , 1.5, 0.5, 0.5, 1.5,\n",
       "       1.5, 1.5, 0. , 1.5, 0. , 0.5, 1.5, 0.5, 1.5, 0.5, 0.5, 0. , 0. ,\n",
       "       0.5, 1.5, 1.5, 1.5, 0. , 0. , 0.5, 0. , 1.5, 1.5, 1.5, 0. , 0. ,\n",
       "       1.5, 1.5, 1.5, 0. , 1.5, 0. , 1.5, 1.5, 0. , 0.5, 1.5, 1.5, 1.5,\n",
       "       1.5, 1. , 0.5, 1.5, 1.5, 1.5, 0. , 0. , 0.5, 0. , 0.5, 1.5, 0. ,\n",
       "       1. , 1.5, 0.5, 1.5, 1.5, 0. , 1.5, 0.5, 0. , 1.5, 1.5, 0. , 0.5,\n",
       "       0. , 0. , 0. , 0.5, 0.5, 0. , 1.5, 1.5, 1.5, 0. , 1.5, 1.5, 0. ,\n",
       "       1.5, 1. , 0.5, 1.5, 0.5, 0.5, 1.5, 0.5, 0. , 0.5, 1.5, 0. , 1.5,\n",
       "       0. , 1.5, 0. , 0.5, 1.5, 1.5, 1. , 0. , 1.5, 0.5, 1.5, 1.5, 1.5,\n",
       "       0.5, 1.5, 1.5, 0. , 1.5, 0.5, 1. , 1.5, 0. , 0.5, 0. , 1.5, 0.5,\n",
       "       1.5, 0.5, 0. , 0. , 1.5, 0. , 0. , 1.5, 0. , 0. , 0. , 0.5, 1.5,\n",
       "       1.5, 1. , 0. , 0. , 1.5, 1.5, 1.5, 0.5, 0. , 1.5, 1.5, 0. , 1.5,\n",
       "       0. , 0.5, 1.5, 0.5, 0.5, 1.5, 0. , 1.5, 1.5, 0. , 1.5, 0. , 1.5,\n",
       "       1.5, 0.5, 1.5, 0.5, 1.5, 1.5, 0. , 1.5, 1.5, 1.5, 1.5, 1.5, 0. ,\n",
       "       1.5, 0.5, 1.5, 0. , 1.5, 0.5, 0.5, 1.5, 1.5, 0. , 0.5, 1.5, 1.5,\n",
       "       0. , 1.5, 1.5, 0. , 1.5, 1. , 0. , 0. , 0.5, 0.5, 1.5, 1.5, 0.5,\n",
       "       0.5, 1.5, 1.5, 0.5, 0. , 1.5, 1.5, 0. , 0. , 1.5, 0. , 0.5, 1.5,\n",
       "       0. , 0. , 1.5, 0.5, 1.5, 0.5, 1.5, 0. , 1.5, 0.5, 1.5, 1.5, 0. ,\n",
       "       1.5, 1.5, 1.5, 0. , 0.5, 0.5, 0. , 1.5, 0. , 0. , 0.5, 0. , 0. ,\n",
       "       0. , 0. , 0. , 1.5, 1.5, 1. , 0.5, 0.5, 1.5, 1.5, 0. , 1.5, 1.5,\n",
       "       0. , 0. , 0.5, 1.5, 1.5, 0. , 1.5, 0.5, 1.5, 0. , 1. , 1.5, 0. ,\n",
       "       0.5, 1.5, 1.5, 0. , 1.5, 1.5, 1.5, 1.5, 0. , 1.5, 0. , 1.5, 0. ,\n",
       "       1.5, 1.5, 1.5, 0. , 0.5, 0. , 1.5, 1.5, 0. , 0. , 1.5, 1.5, 1.5,\n",
       "       1.5, 1.5, 1.5, 0. , 0. , 1.5, 0.5, 1.5, 0. , 1.5, 1.5, 0.5, 1.5,\n",
       "       0. , 0.5, 1.5, 1.5, 1.5, 1. , 1.5, 1.5, 1.5, 1.5, 0. , 0. , 1.5,\n",
       "       0.5, 1. , 1.5, 0.5, 1.5, 0. , 0. , 0.5, 1.5, 0. , 0. , 1.5, 0. ,\n",
       "       1.5, 0.5, 1.5, 1.5, 1.5, 0.5, 1.5, 1.5, 0. , 1.5, 0. , 0. , 0.5,\n",
       "       1.5, 0.5, 1.5, 0.5, 1.5, 1.5, 1.5, 0. , 0.5, 1.5, 1.5, 0. , 0.5,\n",
       "       1.5, 0. , 0.5, 0.5, 0. , 1.5, 1.5, 0.5, 1.5, 1.5, 1.5, 1.5, 1. ,\n",
       "       0. , 1.5, 1.5, 1.5, 1.5, 1.5, 0. , 1.5, 1.5, 0.5, 1.5, 1.5, 1.5,\n",
       "       0.5, 0. ])"
      ]
     },
     "execution_count": 86,
     "metadata": {},
     "output_type": "execute_result"
    }
   ],
   "source": [
    "y_avg=y_pred+y_pred1/2\n",
    "y_avg"
   ]
  },
  {
   "cell_type": "code",
   "execution_count": null,
   "id": "1e1fa8e7",
   "metadata": {},
   "outputs": [],
   "source": []
  }
 ],
 "metadata": {
  "kernelspec": {
   "display_name": "Python 3 (ipykernel)",
   "language": "python",
   "name": "python3"
  },
  "language_info": {
   "codemirror_mode": {
    "name": "ipython",
    "version": 3
   },
   "file_extension": ".py",
   "mimetype": "text/x-python",
   "name": "python",
   "nbconvert_exporter": "python",
   "pygments_lexer": "ipython3",
   "version": "3.9.13"
  }
 },
 "nbformat": 4,
 "nbformat_minor": 5
}
